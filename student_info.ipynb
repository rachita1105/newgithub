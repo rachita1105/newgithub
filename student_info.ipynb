{
 "cells": [
  {
   "cell_type": "code",
   "execution_count": 1,
   "id": "c2e801f8-5cdc-44fe-8726-8072c88602e9",
   "metadata": {},
   "outputs": [],
   "source": [
    "import pandas as pd"
   ]
  },
  {
   "cell_type": "code",
   "execution_count": 2,
   "id": "bc8cb82a-8c27-45af-9d00-ba28b680f43d",
   "metadata": {},
   "outputs": [],
   "source": [
    "df=pd.read_csv(\"student_info.csv\")"
   ]
  },
  {
   "cell_type": "code",
   "execution_count": 3,
   "id": "802e1c2f-a302-4ff6-b589-6907093cc381",
   "metadata": {},
   "outputs": [
    {
     "data": {
      "text/html": [
       "<div>\n",
       "<style scoped>\n",
       "    .dataframe tbody tr th:only-of-type {\n",
       "        vertical-align: middle;\n",
       "    }\n",
       "\n",
       "    .dataframe tbody tr th {\n",
       "        vertical-align: top;\n",
       "    }\n",
       "\n",
       "    .dataframe thead th {\n",
       "        text-align: right;\n",
       "    }\n",
       "</style>\n",
       "<table border=\"1\" class=\"dataframe\">\n",
       "  <thead>\n",
       "    <tr style=\"text-align: right;\">\n",
       "      <th></th>\n",
       "      <th>student_id</th>\n",
       "      <th>name</th>\n",
       "      <th>gender</th>\n",
       "      <th>age</th>\n",
       "      <th>grade_level</th>\n",
       "      <th>math_score</th>\n",
       "      <th>reading_score</th>\n",
       "      <th>writing_score</th>\n",
       "      <th>attendance_rate</th>\n",
       "      <th>parent_education</th>\n",
       "      <th>study_hours</th>\n",
       "      <th>internet_access</th>\n",
       "      <th>lunch_type</th>\n",
       "      <th>extra_activities</th>\n",
       "      <th>final_result</th>\n",
       "    </tr>\n",
       "  </thead>\n",
       "  <tbody>\n",
       "    <tr>\n",
       "      <th>0</th>\n",
       "      <td>S1</td>\n",
       "      <td>Student_1</td>\n",
       "      <td>Other</td>\n",
       "      <td>17</td>\n",
       "      <td>10</td>\n",
       "      <td>74</td>\n",
       "      <td>61</td>\n",
       "      <td>90</td>\n",
       "      <td>94.660002</td>\n",
       "      <td>Master's</td>\n",
       "      <td>4.120192</td>\n",
       "      <td>Yes</td>\n",
       "      <td>Free or reduced</td>\n",
       "      <td>Yes</td>\n",
       "      <td>Fail</td>\n",
       "    </tr>\n",
       "    <tr>\n",
       "      <th>1</th>\n",
       "      <td>S2</td>\n",
       "      <td>Student_2</td>\n",
       "      <td>Male</td>\n",
       "      <td>17</td>\n",
       "      <td>12</td>\n",
       "      <td>99</td>\n",
       "      <td>70</td>\n",
       "      <td>91</td>\n",
       "      <td>93.173227</td>\n",
       "      <td>Bachelor's</td>\n",
       "      <td>2.886505</td>\n",
       "      <td>No</td>\n",
       "      <td>Free or reduced</td>\n",
       "      <td>No</td>\n",
       "      <td>Pass</td>\n",
       "    </tr>\n",
       "    <tr>\n",
       "      <th>2</th>\n",
       "      <td>S3</td>\n",
       "      <td>Student_3</td>\n",
       "      <td>Other</td>\n",
       "      <td>17</td>\n",
       "      <td>9</td>\n",
       "      <td>59</td>\n",
       "      <td>60</td>\n",
       "      <td>99</td>\n",
       "      <td>98.631098</td>\n",
       "      <td>PhD</td>\n",
       "      <td>1.909926</td>\n",
       "      <td>No</td>\n",
       "      <td>Free or reduced</td>\n",
       "      <td>No</td>\n",
       "      <td>Fail</td>\n",
       "    </tr>\n",
       "    <tr>\n",
       "      <th>3</th>\n",
       "      <td>S4</td>\n",
       "      <td>Student_4</td>\n",
       "      <td>Other</td>\n",
       "      <td>17</td>\n",
       "      <td>12</td>\n",
       "      <td>70</td>\n",
       "      <td>88</td>\n",
       "      <td>69</td>\n",
       "      <td>96.419620</td>\n",
       "      <td>PhD</td>\n",
       "      <td>1.664740</td>\n",
       "      <td>No</td>\n",
       "      <td>Standard</td>\n",
       "      <td>No</td>\n",
       "      <td>Pass</td>\n",
       "    </tr>\n",
       "    <tr>\n",
       "      <th>4</th>\n",
       "      <td>S5</td>\n",
       "      <td>Student_5</td>\n",
       "      <td>Male</td>\n",
       "      <td>15</td>\n",
       "      <td>9</td>\n",
       "      <td>85</td>\n",
       "      <td>77</td>\n",
       "      <td>94</td>\n",
       "      <td>91.332105</td>\n",
       "      <td>PhD</td>\n",
       "      <td>2.330918</td>\n",
       "      <td>Yes</td>\n",
       "      <td>Free or reduced</td>\n",
       "      <td>No</td>\n",
       "      <td>Pass</td>\n",
       "    </tr>\n",
       "    <tr>\n",
       "      <th>...</th>\n",
       "      <td>...</td>\n",
       "      <td>...</td>\n",
       "      <td>...</td>\n",
       "      <td>...</td>\n",
       "      <td>...</td>\n",
       "      <td>...</td>\n",
       "      <td>...</td>\n",
       "      <td>...</td>\n",
       "      <td>...</td>\n",
       "      <td>...</td>\n",
       "      <td>...</td>\n",
       "      <td>...</td>\n",
       "      <td>...</td>\n",
       "      <td>...</td>\n",
       "      <td>...</td>\n",
       "    </tr>\n",
       "    <tr>\n",
       "      <th>995</th>\n",
       "      <td>S996</td>\n",
       "      <td>Student_996</td>\n",
       "      <td>Female</td>\n",
       "      <td>15</td>\n",
       "      <td>10</td>\n",
       "      <td>76</td>\n",
       "      <td>75</td>\n",
       "      <td>55</td>\n",
       "      <td>94.127440</td>\n",
       "      <td>Bachelor's</td>\n",
       "      <td>2.212263</td>\n",
       "      <td>Yes</td>\n",
       "      <td>Free or reduced</td>\n",
       "      <td>No</td>\n",
       "      <td>Fail</td>\n",
       "    </tr>\n",
       "    <tr>\n",
       "      <th>996</th>\n",
       "      <td>S997</td>\n",
       "      <td>Student_997</td>\n",
       "      <td>Female</td>\n",
       "      <td>17</td>\n",
       "      <td>12</td>\n",
       "      <td>83</td>\n",
       "      <td>68</td>\n",
       "      <td>98</td>\n",
       "      <td>86.911592</td>\n",
       "      <td>Bachelor's</td>\n",
       "      <td>3.552898</td>\n",
       "      <td>No</td>\n",
       "      <td>Free or reduced</td>\n",
       "      <td>Yes</td>\n",
       "      <td>Fail</td>\n",
       "    </tr>\n",
       "    <tr>\n",
       "      <th>997</th>\n",
       "      <td>S998</td>\n",
       "      <td>Student_998</td>\n",
       "      <td>Other</td>\n",
       "      <td>16</td>\n",
       "      <td>10</td>\n",
       "      <td>60</td>\n",
       "      <td>77</td>\n",
       "      <td>92</td>\n",
       "      <td>80.139645</td>\n",
       "      <td>PhD</td>\n",
       "      <td>2.400027</td>\n",
       "      <td>No</td>\n",
       "      <td>Free or reduced</td>\n",
       "      <td>No</td>\n",
       "      <td>Pass</td>\n",
       "    </tr>\n",
       "    <tr>\n",
       "      <th>998</th>\n",
       "      <td>S999</td>\n",
       "      <td>Student_999</td>\n",
       "      <td>Other</td>\n",
       "      <td>17</td>\n",
       "      <td>9</td>\n",
       "      <td>94</td>\n",
       "      <td>66</td>\n",
       "      <td>97</td>\n",
       "      <td>88.069619</td>\n",
       "      <td>PhD</td>\n",
       "      <td>4.713490</td>\n",
       "      <td>No</td>\n",
       "      <td>Free or reduced</td>\n",
       "      <td>Yes</td>\n",
       "      <td>Pass</td>\n",
       "    </tr>\n",
       "    <tr>\n",
       "      <th>999</th>\n",
       "      <td>S1000</td>\n",
       "      <td>Student_1000</td>\n",
       "      <td>Male</td>\n",
       "      <td>17</td>\n",
       "      <td>9</td>\n",
       "      <td>96</td>\n",
       "      <td>92</td>\n",
       "      <td>93</td>\n",
       "      <td>84.695088</td>\n",
       "      <td>PhD</td>\n",
       "      <td>1.262504</td>\n",
       "      <td>No</td>\n",
       "      <td>Free or reduced</td>\n",
       "      <td>Yes</td>\n",
       "      <td>Pass</td>\n",
       "    </tr>\n",
       "  </tbody>\n",
       "</table>\n",
       "<p>1000 rows × 15 columns</p>\n",
       "</div>"
      ],
      "text/plain": [
       "    student_id          name  gender  age  grade_level  math_score  \\\n",
       "0           S1     Student_1   Other   17           10          74   \n",
       "1           S2     Student_2    Male   17           12          99   \n",
       "2           S3     Student_3   Other   17            9          59   \n",
       "3           S4     Student_4   Other   17           12          70   \n",
       "4           S5     Student_5    Male   15            9          85   \n",
       "..         ...           ...     ...  ...          ...         ...   \n",
       "995       S996   Student_996  Female   15           10          76   \n",
       "996       S997   Student_997  Female   17           12          83   \n",
       "997       S998   Student_998   Other   16           10          60   \n",
       "998       S999   Student_999   Other   17            9          94   \n",
       "999      S1000  Student_1000    Male   17            9          96   \n",
       "\n",
       "     reading_score  writing_score  attendance_rate parent_education  \\\n",
       "0               61             90        94.660002         Master's   \n",
       "1               70             91        93.173227       Bachelor's   \n",
       "2               60             99        98.631098              PhD   \n",
       "3               88             69        96.419620              PhD   \n",
       "4               77             94        91.332105              PhD   \n",
       "..             ...            ...              ...              ...   \n",
       "995             75             55        94.127440       Bachelor's   \n",
       "996             68             98        86.911592       Bachelor's   \n",
       "997             77             92        80.139645              PhD   \n",
       "998             66             97        88.069619              PhD   \n",
       "999             92             93        84.695088              PhD   \n",
       "\n",
       "     study_hours internet_access       lunch_type extra_activities  \\\n",
       "0       4.120192             Yes  Free or reduced              Yes   \n",
       "1       2.886505              No  Free or reduced               No   \n",
       "2       1.909926              No  Free or reduced               No   \n",
       "3       1.664740              No         Standard               No   \n",
       "4       2.330918             Yes  Free or reduced               No   \n",
       "..           ...             ...              ...              ...   \n",
       "995     2.212263             Yes  Free or reduced               No   \n",
       "996     3.552898              No  Free or reduced              Yes   \n",
       "997     2.400027              No  Free or reduced               No   \n",
       "998     4.713490              No  Free or reduced              Yes   \n",
       "999     1.262504              No  Free or reduced              Yes   \n",
       "\n",
       "    final_result  \n",
       "0           Fail  \n",
       "1           Pass  \n",
       "2           Fail  \n",
       "3           Pass  \n",
       "4           Pass  \n",
       "..           ...  \n",
       "995         Fail  \n",
       "996         Fail  \n",
       "997         Pass  \n",
       "998         Pass  \n",
       "999         Pass  \n",
       "\n",
       "[1000 rows x 15 columns]"
      ]
     },
     "execution_count": 3,
     "metadata": {},
     "output_type": "execute_result"
    }
   ],
   "source": [
    "df"
   ]
  },
  {
   "cell_type": "code",
   "execution_count": 4,
   "id": "82418fe3-971a-4eb2-9f51-2bab2308d180",
   "metadata": {},
   "outputs": [
    {
     "data": {
      "text/html": [
       "<div>\n",
       "<style scoped>\n",
       "    .dataframe tbody tr th:only-of-type {\n",
       "        vertical-align: middle;\n",
       "    }\n",
       "\n",
       "    .dataframe tbody tr th {\n",
       "        vertical-align: top;\n",
       "    }\n",
       "\n",
       "    .dataframe thead th {\n",
       "        text-align: right;\n",
       "    }\n",
       "</style>\n",
       "<table border=\"1\" class=\"dataframe\">\n",
       "  <thead>\n",
       "    <tr style=\"text-align: right;\">\n",
       "      <th></th>\n",
       "      <th>student_id</th>\n",
       "      <th>name</th>\n",
       "      <th>gender</th>\n",
       "      <th>age</th>\n",
       "      <th>grade_level</th>\n",
       "      <th>math_score</th>\n",
       "      <th>reading_score</th>\n",
       "      <th>writing_score</th>\n",
       "      <th>attendance_rate</th>\n",
       "      <th>parent_education</th>\n",
       "      <th>study_hours</th>\n",
       "      <th>internet_access</th>\n",
       "      <th>lunch_type</th>\n",
       "      <th>extra_activities</th>\n",
       "      <th>final_result</th>\n",
       "    </tr>\n",
       "  </thead>\n",
       "  <tbody>\n",
       "    <tr>\n",
       "      <th>0</th>\n",
       "      <td>S1</td>\n",
       "      <td>Student_1</td>\n",
       "      <td>Other</td>\n",
       "      <td>17</td>\n",
       "      <td>10</td>\n",
       "      <td>74</td>\n",
       "      <td>61</td>\n",
       "      <td>90</td>\n",
       "      <td>94.660002</td>\n",
       "      <td>Master's</td>\n",
       "      <td>4.120192</td>\n",
       "      <td>Yes</td>\n",
       "      <td>Free or reduced</td>\n",
       "      <td>Yes</td>\n",
       "      <td>Fail</td>\n",
       "    </tr>\n",
       "    <tr>\n",
       "      <th>1</th>\n",
       "      <td>S2</td>\n",
       "      <td>Student_2</td>\n",
       "      <td>Male</td>\n",
       "      <td>17</td>\n",
       "      <td>12</td>\n",
       "      <td>99</td>\n",
       "      <td>70</td>\n",
       "      <td>91</td>\n",
       "      <td>93.173227</td>\n",
       "      <td>Bachelor's</td>\n",
       "      <td>2.886505</td>\n",
       "      <td>No</td>\n",
       "      <td>Free or reduced</td>\n",
       "      <td>No</td>\n",
       "      <td>Pass</td>\n",
       "    </tr>\n",
       "    <tr>\n",
       "      <th>2</th>\n",
       "      <td>S3</td>\n",
       "      <td>Student_3</td>\n",
       "      <td>Other</td>\n",
       "      <td>17</td>\n",
       "      <td>9</td>\n",
       "      <td>59</td>\n",
       "      <td>60</td>\n",
       "      <td>99</td>\n",
       "      <td>98.631098</td>\n",
       "      <td>PhD</td>\n",
       "      <td>1.909926</td>\n",
       "      <td>No</td>\n",
       "      <td>Free or reduced</td>\n",
       "      <td>No</td>\n",
       "      <td>Fail</td>\n",
       "    </tr>\n",
       "    <tr>\n",
       "      <th>3</th>\n",
       "      <td>S4</td>\n",
       "      <td>Student_4</td>\n",
       "      <td>Other</td>\n",
       "      <td>17</td>\n",
       "      <td>12</td>\n",
       "      <td>70</td>\n",
       "      <td>88</td>\n",
       "      <td>69</td>\n",
       "      <td>96.419620</td>\n",
       "      <td>PhD</td>\n",
       "      <td>1.664740</td>\n",
       "      <td>No</td>\n",
       "      <td>Standard</td>\n",
       "      <td>No</td>\n",
       "      <td>Pass</td>\n",
       "    </tr>\n",
       "    <tr>\n",
       "      <th>4</th>\n",
       "      <td>S5</td>\n",
       "      <td>Student_5</td>\n",
       "      <td>Male</td>\n",
       "      <td>15</td>\n",
       "      <td>9</td>\n",
       "      <td>85</td>\n",
       "      <td>77</td>\n",
       "      <td>94</td>\n",
       "      <td>91.332105</td>\n",
       "      <td>PhD</td>\n",
       "      <td>2.330918</td>\n",
       "      <td>Yes</td>\n",
       "      <td>Free or reduced</td>\n",
       "      <td>No</td>\n",
       "      <td>Pass</td>\n",
       "    </tr>\n",
       "  </tbody>\n",
       "</table>\n",
       "</div>"
      ],
      "text/plain": [
       "  student_id       name gender  age  grade_level  math_score  reading_score  \\\n",
       "0         S1  Student_1  Other   17           10          74             61   \n",
       "1         S2  Student_2   Male   17           12          99             70   \n",
       "2         S3  Student_3  Other   17            9          59             60   \n",
       "3         S4  Student_4  Other   17           12          70             88   \n",
       "4         S5  Student_5   Male   15            9          85             77   \n",
       "\n",
       "   writing_score  attendance_rate parent_education  study_hours  \\\n",
       "0             90        94.660002         Master's     4.120192   \n",
       "1             91        93.173227       Bachelor's     2.886505   \n",
       "2             99        98.631098              PhD     1.909926   \n",
       "3             69        96.419620              PhD     1.664740   \n",
       "4             94        91.332105              PhD     2.330918   \n",
       "\n",
       "  internet_access       lunch_type extra_activities final_result  \n",
       "0             Yes  Free or reduced              Yes         Fail  \n",
       "1              No  Free or reduced               No         Pass  \n",
       "2              No  Free or reduced               No         Fail  \n",
       "3              No         Standard               No         Pass  \n",
       "4             Yes  Free or reduced               No         Pass  "
      ]
     },
     "execution_count": 4,
     "metadata": {},
     "output_type": "execute_result"
    }
   ],
   "source": [
    "df.head()"
   ]
  },
  {
   "cell_type": "code",
   "execution_count": 5,
   "id": "a0af900e-3bc4-4f19-b1c7-b263f4a25b48",
   "metadata": {},
   "outputs": [
    {
     "name": "stdout",
     "output_type": "stream",
     "text": [
      "Shape: (1000, 15)\n",
      "<class 'pandas.core.frame.DataFrame'>\n",
      "RangeIndex: 1000 entries, 0 to 999\n",
      "Data columns (total 15 columns):\n",
      " #   Column            Non-Null Count  Dtype  \n",
      "---  ------            --------------  -----  \n",
      " 0   student_id        1000 non-null   object \n",
      " 1   name              1000 non-null   object \n",
      " 2   gender            1000 non-null   object \n",
      " 3   age               1000 non-null   int64  \n",
      " 4   grade_level       1000 non-null   int64  \n",
      " 5   math_score        1000 non-null   int64  \n",
      " 6   reading_score     1000 non-null   int64  \n",
      " 7   writing_score     1000 non-null   int64  \n",
      " 8   attendance_rate   1000 non-null   float64\n",
      " 9   parent_education  1000 non-null   object \n",
      " 10  study_hours       1000 non-null   float64\n",
      " 11  internet_access   1000 non-null   object \n",
      " 12  lunch_type        1000 non-null   object \n",
      " 13  extra_activities  1000 non-null   object \n",
      " 14  final_result      1000 non-null   object \n",
      "dtypes: float64(2), int64(5), object(8)\n",
      "memory usage: 117.3+ KB\n"
     ]
    },
    {
     "data": {
      "text/html": [
       "<div>\n",
       "<style scoped>\n",
       "    .dataframe tbody tr th:only-of-type {\n",
       "        vertical-align: middle;\n",
       "    }\n",
       "\n",
       "    .dataframe tbody tr th {\n",
       "        vertical-align: top;\n",
       "    }\n",
       "\n",
       "    .dataframe thead th {\n",
       "        text-align: right;\n",
       "    }\n",
       "</style>\n",
       "<table border=\"1\" class=\"dataframe\">\n",
       "  <thead>\n",
       "    <tr style=\"text-align: right;\">\n",
       "      <th></th>\n",
       "      <th>age</th>\n",
       "      <th>grade_level</th>\n",
       "      <th>math_score</th>\n",
       "      <th>reading_score</th>\n",
       "      <th>writing_score</th>\n",
       "      <th>attendance_rate</th>\n",
       "      <th>study_hours</th>\n",
       "    </tr>\n",
       "  </thead>\n",
       "  <tbody>\n",
       "    <tr>\n",
       "      <th>count</th>\n",
       "      <td>1000.000000</td>\n",
       "      <td>1000.000000</td>\n",
       "      <td>1000.000000</td>\n",
       "      <td>1000.000000</td>\n",
       "      <td>1000.000000</td>\n",
       "      <td>1000.000000</td>\n",
       "      <td>1000.000000</td>\n",
       "    </tr>\n",
       "    <tr>\n",
       "      <th>mean</th>\n",
       "      <td>15.999000</td>\n",
       "      <td>10.473000</td>\n",
       "      <td>75.165000</td>\n",
       "      <td>74.293000</td>\n",
       "      <td>75.150000</td>\n",
       "      <td>89.879179</td>\n",
       "      <td>2.978380</td>\n",
       "    </tr>\n",
       "    <tr>\n",
       "      <th>std</th>\n",
       "      <td>0.817109</td>\n",
       "      <td>1.136029</td>\n",
       "      <td>14.304349</td>\n",
       "      <td>14.312652</td>\n",
       "      <td>14.395094</td>\n",
       "      <td>5.725007</td>\n",
       "      <td>1.167780</td>\n",
       "    </tr>\n",
       "    <tr>\n",
       "      <th>min</th>\n",
       "      <td>15.000000</td>\n",
       "      <td>9.000000</td>\n",
       "      <td>50.000000</td>\n",
       "      <td>50.000000</td>\n",
       "      <td>50.000000</td>\n",
       "      <td>80.000614</td>\n",
       "      <td>1.015673</td>\n",
       "    </tr>\n",
       "    <tr>\n",
       "      <th>25%</th>\n",
       "      <td>15.000000</td>\n",
       "      <td>9.000000</td>\n",
       "      <td>63.000000</td>\n",
       "      <td>62.000000</td>\n",
       "      <td>63.000000</td>\n",
       "      <td>84.971772</td>\n",
       "      <td>1.955287</td>\n",
       "    </tr>\n",
       "    <tr>\n",
       "      <th>50%</th>\n",
       "      <td>16.000000</td>\n",
       "      <td>10.000000</td>\n",
       "      <td>75.000000</td>\n",
       "      <td>74.000000</td>\n",
       "      <td>75.000000</td>\n",
       "      <td>89.980889</td>\n",
       "      <td>2.962665</td>\n",
       "    </tr>\n",
       "    <tr>\n",
       "      <th>75%</th>\n",
       "      <td>17.000000</td>\n",
       "      <td>12.000000</td>\n",
       "      <td>88.000000</td>\n",
       "      <td>86.000000</td>\n",
       "      <td>88.000000</td>\n",
       "      <td>94.629778</td>\n",
       "      <td>3.994360</td>\n",
       "    </tr>\n",
       "    <tr>\n",
       "      <th>max</th>\n",
       "      <td>17.000000</td>\n",
       "      <td>12.000000</td>\n",
       "      <td>99.000000</td>\n",
       "      <td>99.000000</td>\n",
       "      <td>99.000000</td>\n",
       "      <td>99.954988</td>\n",
       "      <td>4.997843</td>\n",
       "    </tr>\n",
       "  </tbody>\n",
       "</table>\n",
       "</div>"
      ],
      "text/plain": [
       "               age  grade_level   math_score  reading_score  writing_score  \\\n",
       "count  1000.000000  1000.000000  1000.000000    1000.000000    1000.000000   \n",
       "mean     15.999000    10.473000    75.165000      74.293000      75.150000   \n",
       "std       0.817109     1.136029    14.304349      14.312652      14.395094   \n",
       "min      15.000000     9.000000    50.000000      50.000000      50.000000   \n",
       "25%      15.000000     9.000000    63.000000      62.000000      63.000000   \n",
       "50%      16.000000    10.000000    75.000000      74.000000      75.000000   \n",
       "75%      17.000000    12.000000    88.000000      86.000000      88.000000   \n",
       "max      17.000000    12.000000    99.000000      99.000000      99.000000   \n",
       "\n",
       "       attendance_rate  study_hours  \n",
       "count      1000.000000  1000.000000  \n",
       "mean         89.879179     2.978380  \n",
       "std           5.725007     1.167780  \n",
       "min          80.000614     1.015673  \n",
       "25%          84.971772     1.955287  \n",
       "50%          89.980889     2.962665  \n",
       "75%          94.629778     3.994360  \n",
       "max          99.954988     4.997843  "
      ]
     },
     "execution_count": 5,
     "metadata": {},
     "output_type": "execute_result"
    }
   ],
   "source": [
    "print(\"Shape:\", df.shape)\n",
    "df.info()\n",
    "df.describe()"
   ]
  },
  {
   "cell_type": "code",
   "execution_count": 6,
   "id": "32b60fce-f3de-4be7-a4b0-032ded4054f8",
   "metadata": {},
   "outputs": [
    {
     "data": {
      "text/plain": [
       "student_id          0\n",
       "name                0\n",
       "gender              0\n",
       "age                 0\n",
       "grade_level         0\n",
       "math_score          0\n",
       "reading_score       0\n",
       "writing_score       0\n",
       "attendance_rate     0\n",
       "parent_education    0\n",
       "study_hours         0\n",
       "internet_access     0\n",
       "lunch_type          0\n",
       "extra_activities    0\n",
       "final_result        0\n",
       "dtype: int64"
      ]
     },
     "execution_count": 6,
     "metadata": {},
     "output_type": "execute_result"
    }
   ],
   "source": [
    "df.isnull().sum()"
   ]
  },
  {
   "cell_type": "code",
   "execution_count": 7,
   "id": "917c1f53-736a-48db-aa65-1a5d9f4ba200",
   "metadata": {},
   "outputs": [
    {
     "data": {
      "text/plain": [
       "gender\n",
       "Male      355\n",
       "Female    326\n",
       "Other     319\n",
       "Name: count, dtype: int64"
      ]
     },
     "execution_count": 7,
     "metadata": {},
     "output_type": "execute_result"
    }
   ],
   "source": [
    "df['gender'].value_counts()\n"
   ]
  },
  {
   "cell_type": "code",
   "execution_count": 8,
   "id": "6c758d6c-091a-42b6-814c-4517dc634af7",
   "metadata": {},
   "outputs": [],
   "source": [
    "import matplotlib.pyplot as plt\n",
    "import seaborn as sns\n",
    "\n"
   ]
  },
  {
   "cell_type": "code",
   "execution_count": 9,
   "id": "d01a283b-45b2-46d9-abc5-a2e8b2543772",
   "metadata": {},
   "outputs": [
    {
     "data": {
      "image/png": "[encoded data removed]",
      "text/plain": [
       "<Figure size 640x480 with 1 Axes>"
      ]
     },
     "metadata": {},
     "output_type": "display_data"
    }
   ],
   "source": [
    "sns.countplot(data=df, x='gender')\n",
    "plt.title(\"Number of Students by Gender\")\n",
    "plt.xlabel(\"Gender\")\n",
    "plt.ylabel(\"Counts\")\n",
    "plt.show()\n"
   ]
  },
  {
   "cell_type": "code",
   "execution_count": null,
   "id": "d67f3935-89b9-4843-bde6-0be7a2e985de",
   "metadata": {},
   "outputs": [],
   "source": []
  },
  {
   "cell_type": "code",
   "execution_count": 10,
   "id": "26c0e66b-1f7f-438e-8ef1-9907f160b500",
   "metadata": {},
   "outputs": [
    {
     "data": {
      "image/png": "[encoded data removed]",
      "text/plain": [
       "<Figure size 640x480 with 1 Axes>"
      ]
     },
     "metadata": {},
     "output_type": "display_data"
    }
   ],
   "source": [
    "sns.histplot(df['math_score'], kde=True)\n",
    "plt.title(\"Marks Distribution\")\n",
    "plt.xlabel(\"Marks\")\n",
    "plt.ylabel(\"Frequency\")\n",
    "plt.show()\n"
   ]
  },
  {
   "cell_type": "code",
   "execution_count": 11,
   "id": "7f3f4019-728c-40e3-941c-89384b3575cd",
   "metadata": {},
   "outputs": [
    {
     "data": {
      "image/png": "[encoded data removed]",
      "text/plain": [
       "<Figure size 640x480 with 1 Axes>"
      ]
     },
     "metadata": {},
     "output_type": "display_data"
    }
   ],
   "source": [
    "sns.histplot(df['reading_score'], kde=True)\n",
    "plt.title(\"Marks Distribution\")\n",
    "plt.xlabel(\"Marks\")\n",
    "plt.ylabel(\"Frequency\")\n",
    "plt.show()\n"
   ]
  },
  {
   "cell_type": "code",
   "execution_count": 12,
   "id": "227484ba-296e-472f-b642-0c55ca938e68",
   "metadata": {},
   "outputs": [
    {
     "data": {
      "image/png": "[encoded data removed]",
      "text/plain": [
       "<Figure size 640x480 with 1 Axes>"
      ]
     },
     "metadata": {},
     "output_type": "display_data"
    }
   ],
   "source": [
    "sns.histplot(df['writing_score'], kde=True)\n",
    "plt.title(\"Marks Distribution\")\n",
    "plt.xlabel(\"Marks\")\n",
    "plt.ylabel(\"Frequency\")\n",
    "plt.show()\n"
   ]
  },
  {
   "cell_type": "code",
   "execution_count": 13,
   "id": "22d52b27-6498-4f92-8c12-76a28653369d",
   "metadata": {},
   "outputs": [
    {
     "data": {
      "image/png": "[encoded data removed]",
      "text/plain": [
       "<Figure size 640x480 with 1 Axes>"
      ]
     },
     "metadata": {},
     "output_type": "display_data"
    }
   ],
   "source": [
    "plt.bar(df['math_score'],df['reading_score'],df['writing_score'])\n",
    "plt.title(\"Marks Distribution\")\n",
    "plt.xlabel(\"Marks\")\n",
    "plt.ylabel(\"Frequency\")\n",
    "plt.show()\n"
   ]
  },
  {
   "cell_type": "code",
   "execution_count": 14,
   "id": "8aa98c90-1891-495f-be57-cf0592d439fb",
   "metadata": {},
   "outputs": [
    {
     "data": {
      "image/png": "[encoded data removed]",
      "text/plain": [
       "<Figure size 640x480 with 1 Axes>"
      ]
     },
     "metadata": {},
     "output_type": "display_data"
    }
   ],
   "source": [
    "sns.boxplot(x='gender', y='math_score', data=df)\n",
    "plt.title(\"Math Score by Gender\")\n",
    "plt.show()"
   ]
  },
  {
   "cell_type": "code",
   "execution_count": 15,
   "id": "d1071c34-73a9-4c5c-8a8d-5e5afae43823",
   "metadata": {},
   "outputs": [
    {
     "data": {
      "image/png": "[encoded data removed]",
      "text/plain": [
       "<Figure size 640x480 with 1 Axes>"
      ]
     },
     "metadata": {},
     "output_type": "display_data"
    }
   ],
   "source": [
    "sns.boxplot(data=df, x='gender', y='grade_level')\n",
    "plt.title(\"Marks by Gender\")\n",
    "plt.xlabel(\"Gender\")\n",
    "plt.ylabel(\"Marks\")\n",
    "plt.show()\n"
   ]
  },
  {
   "cell_type": "code",
   "execution_count": 16,
   "id": "1069238f-f07c-4fc1-b18b-cbc446d552b3",
   "metadata": {},
   "outputs": [
    {
     "data": {
      "image/png": "[encoded data removed]",
      "text/plain": [
       "<Figure size 640x480 with 1 Axes>"
      ]
     },
     "metadata": {},
     "output_type": "display_data"
    }
   ],
   "source": [
    "df['gender'].value_counts().plot.pie(autopct='%1.1f%%', colors=['skyblue', 'lightcoral'])\n",
    "plt.title(\"gender Distribution\")\n",
    "plt.ylabel(\"\")\n",
    "plt.show()\n"
   ]
  },
  {
   "cell_type": "code",
   "execution_count": 17,
   "id": "71cb79bd-c8bf-4af1-b502-60d007ca64f6",
   "metadata": {},
   "outputs": [
    {
     "data": {
      "image/png": "[encoded data removed]",
      "text/plain": [
       "<Figure size 640x480 with 2 Axes>"
      ]
     },
     "metadata": {},
     "output_type": "display_data"
    }
   ],
   "source": [
    "# Only select numeric columns before computing correlation\n",
    "numeric_df = df.select_dtypes(include='number')\n",
    "\n",
    "# Now plot the heatmap\n",
    "import seaborn as sns\n",
    "import matplotlib.pyplot as plt\n",
    "\n",
    "sns.heatmap(numeric_df.corr(), annot=True, cmap=\"coolwarm\")\n",
    "plt.title(\"Correlation Heatmap\")\n",
    "plt.show()"
   ]
  },
  {
   "cell_type": "code",
   "execution_count": 18,
   "id": "0b7b6daf-5f09-4bfc-9eea-7eb6b822113a",
   "metadata": {},
   "outputs": [
    {
     "data": {
      "image/png": "[encoded data removed]",
      "text/plain": [
       "<Figure size 640x480 with 1 Axes>"
      ]
     },
     "metadata": {},
     "output_type": "display_data"
    }
   ],
   "source": [
    "sns.scatterplot(data=df, x='age', y='grade_level', hue='gender')\n",
    "plt.title(\"Marks vs Age\")\n",
    "plt.xlabel(\"Age\")\n",
    "plt.ylabel(\"Marks\")\n",
    "plt.show()\n"
   ]
  },
  {
   "cell_type": "code",
   "execution_count": 19,
   "id": "259129bd-fcdf-46fa-ab1a-4d0b7a556da3",
   "metadata": {},
   "outputs": [],
   "source": [
    "main=df.groupby('gender')['attendance_rate'].mean()"
   ]
  },
  {
   "cell_type": "code",
   "execution_count": 20,
   "id": "8fd96674-b99d-4549-ba48-73b71b037f98",
   "metadata": {},
   "outputs": [
    {
     "data": {
      "text/plain": [
       "gender\n",
       "Female    90.125549\n",
       "Male      89.629485\n",
       "Other     89.905276\n",
       "Name: attendance_rate, dtype: float64"
      ]
     },
     "execution_count": 20,
     "metadata": {},
     "output_type": "execute_result"
    }
   ],
   "source": [
    "main"
   ]
  },
  {
   "cell_type": "code",
   "execution_count": 21,
   "id": "bd3fbc6f-d649-4890-b394-1159d7af8d3e",
   "metadata": {},
   "outputs": [
    {
     "data": {
      "text/plain": [
       "<Axes: xlabel='gender'>"
      ]
     },
     "execution_count": 21,
     "metadata": {},
     "output_type": "execute_result"
    },
    {
     "data": {
      "image/png": "[encoded data removed]",
      "text/plain": [
       "<Figure size 640x480 with 1 Axes>"
      ]
     },
     "metadata": {},
     "output_type": "display_data"
    }
   ],
   "source": [
    "main.sort_values().plot()"
   ]
  },
  {
   "cell_type": "code",
   "execution_count": 22,
   "id": "e36737ef-dc00-4cf0-81de-1e779026ec3f",
   "metadata": {},
   "outputs": [],
   "source": [
    "main2=df.groupby('final_result')['study_hours'].mean()"
   ]
  },
  {
   "cell_type": "code",
   "execution_count": 23,
   "id": "c3fe12db-d084-40a8-8382-1d7e4064ece2",
   "metadata": {},
   "outputs": [
    {
     "data": {
      "text/plain": [
       "<Axes: title={'center': 'school final result'}, xlabel='study_hours', ylabel='final_results'>"
      ]
     },
     "execution_count": 23,
     "metadata": {},
     "output_type": "execute_result"
    },
    {
     "data": {
      "image/png": "[encoded data removed]",
      "text/plain": [
       "<Figure size 640x480 with 1 Axes>"
      ]
     },
     "metadata": {},
     "output_type": "display_data"
    }
   ],
   "source": [
    "main2.plot(kind='barh', title='school final result',xlabel=\"study_hours\",ylabel=\"final_results\")"
   ]
  },
  {
   "cell_type": "code",
   "execution_count": 24,
   "id": "b131b2f1-2ef2-47cb-b0f1-a4219324e549",
   "metadata": {},
   "outputs": [
    {
     "data": {
      "text/plain": [
       "<Axes: title={'center': 'school final result'}, xlabel='study_hours', ylabel='final_results'>"
      ]
     },
     "execution_count": 24,
     "metadata": {},
     "output_type": "execute_result"
    },
    {
     "data": {
      "image/png": "[encoded data removed]",
      "text/plain": [
       "<Figure size 640x480 with 1 Axes>"
      ]
     },
     "metadata": {},
     "output_type": "display_data"
    }
   ],
   "source": [
    "main2.plot(kind='bar', title='school final result',xlabel=\"study_hours\",ylabel=\"final_results\")"
   ]
  },
  {
   "cell_type": "code",
   "execution_count": 25,
   "id": "15922de0-5c65-446d-a2a4-817c64963c84",
   "metadata": {},
   "outputs": [
    {
     "data": {
      "image/png": "[encoded data removed]",
      "text/plain": [
       "<Figure size 640x480 with 1 Axes>"
      ]
     },
     "metadata": {},
     "output_type": "display_data"
    }
   ],
   "source": [
    "final_counts = df['final_result'].value_counts()\n",
    "plt.pie(final_counts, labels=final_counts.index, autopct='%1.1f%%', startangle=140)\n",
    "plt.title(\"Final Result Distribution\")\n",
    "plt.axis('equal')  \n",
    "plt.show()"
   ]
  },
  {
   "cell_type": "code",
   "execution_count": 26,
   "id": "b4466edc-68e7-4255-b0bc-9f94a66cd18e",
   "metadata": {},
   "outputs": [
    {
     "name": "stdout",
     "output_type": "stream",
     "text": [
      "Requirement already satisfied: plotly in c:\\users\\nikita\\appdata\\local\\programs\\python\\python313\\lib\\site-packages (6.2.0)\n",
      "Requirement already satisfied: narwhals>=1.15.1 in c:\\users\\nikita\\appdata\\local\\programs\\python\\python313\\lib\\site-packages (from plotly) (1.48.1)\n",
      "Requirement already satisfied: packaging in c:\\users\\nikita\\appdata\\local\\programs\\python\\python313\\lib\\site-packages (from plotly) (25.0)\n"
     ]
    }
   ],
   "source": [
    "!pip install plotly\n"
   ]
  },
  {
   "cell_type": "code",
   "execution_count": 27,
   "id": "75880b2a-7849-44d5-9ab7-7e80cefb480d",
   "metadata": {},
   "outputs": [],
   "source": [
    "import plotly.express as px"
   ]
  },
  {
   "cell_type": "code",
   "execution_count": 28,
   "id": "873d518e-cbf2-447e-ac8e-be6b2e3bf789",
   "metadata": {},
   "outputs": [
    {
     "data": {
      "application/vnd.plotly.v1+json": {
       "config": {
        "plotlyServerURL": "https://plot.ly"
       },
       "data": [
        {
         "hovertemplate": "gender=Other<br>age=%{x}<br>final_result=%{y}<extra></extra>",
         "legendgroup": "Other",
         "marker": {
          "color": "#636efa",
          "symbol": "circle"
         },
         "mode": "markers",
         "name": "Other",
         "orientation": "h",
         "showlegend": true,
         "type": "scatter",
         "x": {
          "bdata": "EREREBEREBAQEBEPERAPEBERERAPDw8REA8QEQ8QDxARDw8REQ8REREQERERDxAQDw8PEQ8QDxEPEQ8RDxEPEBAREA8RDxEPEA8PERERDxAPEQ8QEQ8RERAREA8PERARDxAQEREQDw8QEBAREBEPERAREQ8REBEREQ8PEA8QEQ8QDxAQEBAPDxAQEBAREQ8REBEPDw8QEBAQERARDxARDxEPDw8PDxEQEQ8QDxEPEREQDxAREBERDxERDxAREBEPEBEPDw8REQ8PERAQEBEQERAPERAPEBAPDxARDw8PDw8QEREPDw8RDw8QDxERDxERDxEQERAPDw8PEREPEBAREQ8RDxAQERAPERERERARDxAQERARDw8QEA8PEBAQEA8QEBEPDxAREBAPEBAPDw8PEBAQEBARDxEQEBAQEA8QEQ==",
          "dtype": "i1"
         },
         "xaxis": "x",
         "y": [
          "Fail",
          "Fail",
          "Pass",
          "Pass",
          "Pass",
          "Fail",
          "Pass",
          "Pass",
          "Fail",
          "Fail",
          "Fail",
          "Pass",
          "Pass",
          "Pass",
          "Fail",
          "Pass",
          "Fail",
          "Pass",
          "Fail",
          "Fail",
          "Pass",
          "Fail",
          "Pass",
          "Fail",
          "Fail",
          "Pass",
          "Fail",
          "Pass",
          "Fail",
          "Pass",
          "Fail",
          "Fail",
          "Fail",
          "Pass",
          "Fail",
          "Fail",
          "Pass",
          "Pass",
          "Fail",
          "Pass",
          "Fail",
          "Pass",
          "Pass",
          "Pass",
          "Pass",
          "Fail",
          "Pass",
          "Fail",
          "Pass",
          "Pass",
          "Pass",
          "Fail",
          "Fail",
          "Fail",
          "Pass",
          "Fail",
          "Fail",
          "Pass",
          "Fail",
          "Pass",
          "Fail",
          "Fail",
          "Pass",
          "Pass",
          "Fail",
          "Fail",
          "Pass",
          "Fail",
          "Fail",
          "Fail",
          "Fail",
          "Pass",
          "Pass",
          "Pass",
          "Fail",
          "Fail",
          "Fail",
          "Pass",
          "Pass",
          "Pass",
          "Fail",
          "Pass",
          "Fail",
          "Pass",
          "Pass",
          "Fail",
          "Pass",
          "Pass",
          "Fail",
          "Fail",
          "Pass",
          "Pass",
          "Fail",
          "Pass",
          "Pass",
          "Fail",
          "Pass",
          "Fail",
          "Fail",
          "Fail",
          "Pass",
          "Pass",
          "Pass",
          "Pass",
          "Pass",
          "Pass",
          "Fail",
          "Fail",
          "Fail",
          "Pass",
          "Fail",
          "Pass",
          "Fail",
          "Pass",
          "Pass",
          "Pass",
          "Pass",
          "Fail",
          "Pass",
          "Pass",
          "Fail",
          "Pass",
          "Pass",
          "Pass",
          "Fail",
          "Fail",
          "Pass",
          "Pass",
          "Pass",
          "Pass",
          "Fail",
          "Pass",
          "Fail",
          "Pass",
          "Pass",
          "Pass",
          "Pass",
          "Fail",
          "Pass",
          "Pass",
          "Pass",
          "Pass",
          "Pass",
          "Pass",
          "Fail",
          "Pass",
          "Pass",
          "Fail",
          "Fail",
          "Fail",
          "Fail",
          "Pass",
          "Fail",
          "Pass",
          "Fail",
          "Fail",
          "Fail",
          "Fail",
          "Fail",
          "Fail",
          "Pass",
          "Fail",
          "Pass",
          "Fail",
          "Fail",
          "Fail",
          "Fail",
          "Fail",
          "Fail",
          "Fail",
          "Pass",
          "Pass",
          "Pass",
          "Fail",
          "Fail",
          "Fail",
          "Pass",
          "Fail",
          "Fail",
          "Pass",
          "Fail",
          "Fail",
          "Fail",
          "Pass",
          "Fail",
          "Pass",
          "Fail",
          "Pass",
          "Pass",
          "Pass",
          "Pass",
          "Pass",
          "Fail",
          "Pass",
          "Fail",
          "Fail",
          "Pass",
          "Pass",
          "Pass",
          "Pass",
          "Pass",
          "Pass",
          "Pass",
          "Fail",
          "Fail",
          "Pass",
          "Fail",
          "Pass",
          "Pass",
          "Pass",
          "Fail",
          "Fail",
          "Fail",
          "Pass",
          "Fail",
          "Fail",
          "Fail",
          "Pass",
          "Fail",
          "Fail",
          "Fail",
          "Pass",
          "Fail",
          "Pass",
          "Fail",
          "Pass",
          "Pass",
          "Fail",
          "Pass",
          "Pass",
          "Pass",
          "Fail",
          "Fail",
          "Fail",
          "Fail",
          "Fail",
          "Pass",
          "Fail",
          "Pass",
          "Pass",
          "Fail",
          "Fail",
          "Pass",
          "Pass",
          "Fail",
          "Fail",
          "Pass",
          "Fail",
          "Pass",
          "Pass",
          "Pass",
          "Fail",
          "Pass",
          "Pass",
          "Fail",
          "Pass",
          "Pass",
          "Pass",
          "Pass",
          "Pass",
          "Pass",
          "Fail",
          "Pass",
          "Fail",
          "Fail",
          "Pass",
          "Fail",
          "Pass",
          "Fail",
          "Fail",
          "Fail",
          "Pass",
          "Fail",
          "Fail",
          "Pass",
          "Pass",
          "Pass",
          "Pass",
          "Fail",
          "Fail",
          "Fail",
          "Pass",
          "Fail",
          "Fail",
          "Pass",
          "Pass",
          "Pass",
          "Pass",
          "Fail",
          "Pass",
          "Pass",
          "Pass",
          "Pass",
          "Fail",
          "Fail",
          "Fail",
          "Fail",
          "Pass",
          "Pass",
          "Fail",
          "Fail",
          "Fail",
          "Pass",
          "Pass",
          "Pass",
          "Pass",
          "Pass",
          "Pass",
          "Pass",
          "Fail",
          "Pass",
          "Pass",
          "Fail",
          "Fail",
          "Fail",
          "Pass",
          "Fail",
          "Pass",
          "Pass"
         ],
         "yaxis": "y"
        },
        {
         "hovertemplate": "gender=Male<br>age=%{x}<br>final_result=%{y}<extra></extra>",
         "legendgroup": "Male",
         "marker": {
          "color": "#EF553B",
          "symbol": "circle"
         },
         "mode": "markers",
         "name": "Male",
         "orientation": "h",
         "showlegend": true,
         "type": "scatter",
         "x": {
          "bdata": "EQ8RDxEREA8QEBEPDxAPDw8PEBAPEBAPEREQEA8PEBAREBEPERAPEBAREREREBAPEBEPDxEQERAQEBEQEA8PEA8PEBAPEBAQDxERDw8RERAREQ8PEBAPDw8PEBEREA8RERAQDw8RERAQEBEPDxEPERAQDw8REBEQDxERDxAPEA8QEQ8QEQ8QEA8PEA8RDxERDxERDw8REREREBAPEREPEA8QDw8QERAQDxAPEQ8PERAQDxAPEA8QEREQEBEREBERDxEQEBERDxAPEA8QERAQEREQEA8QDw8QEA8QDw8RDw8REBARDxERDw8QDxEPEQ8REBEQEREQDw8QEREPEBAREBAPDxAPEA8REBEQDw8PEBEPDxEQEQ8REBAREBAPERAPEBEPERAPEBAQEQ8REREPEBEPEA8PEQ8RDxEPEREREBAPEBAPERAPERAQERAPDw8REBAQEQ8RDxAPEBEREBEREQ8QEQ==",
          "dtype": "i1"
         },
         "xaxis": "x",
         "y": [
          "Pass",
          "Pass",
          "Fail",
          "Pass",
          "Fail",
          "Fail",
          "Pass",
          "Fail",
          "Pass",
          "Pass",
          "Fail",
          "Pass",
          "Pass",
          "Pass",
          "Fail",
          "Pass",
          "Pass",
          "Pass",
          "Pass",
          "Fail",
          "Pass",
          "Pass",
          "Pass",
          "Fail",
          "Pass",
          "Pass",
          "Pass",
          "Pass",
          "Fail",
          "Fail",
          "Pass",
          "Pass",
          "Pass",
          "Pass",
          "Pass",
          "Pass",
          "Pass",
          "Fail",
          "Fail",
          "Fail",
          "Pass",
          "Fail",
          "Fail",
          "Fail",
          "Pass",
          "Fail",
          "Fail",
          "Fail",
          "Pass",
          "Fail",
          "Pass",
          "Pass",
          "Fail",
          "Pass",
          "Pass",
          "Pass",
          "Pass",
          "Fail",
          "Fail",
          "Fail",
          "Fail",
          "Fail",
          "Pass",
          "Pass",
          "Fail",
          "Fail",
          "Pass",
          "Fail",
          "Fail",
          "Fail",
          "Fail",
          "Pass",
          "Fail",
          "Pass",
          "Fail",
          "Fail",
          "Fail",
          "Pass",
          "Fail",
          "Fail",
          "Pass",
          "Fail",
          "Pass",
          "Fail",
          "Pass",
          "Pass",
          "Pass",
          "Pass",
          "Pass",
          "Pass",
          "Pass",
          "Fail",
          "Pass",
          "Pass",
          "Fail",
          "Pass",
          "Pass",
          "Fail",
          "Pass",
          "Pass",
          "Pass",
          "Pass",
          "Fail",
          "Pass",
          "Pass",
          "Pass",
          "Fail",
          "Pass",
          "Pass",
          "Fail",
          "Pass",
          "Fail",
          "Fail",
          "Fail",
          "Pass",
          "Pass",
          "Fail",
          "Fail",
          "Pass",
          "Fail",
          "Fail",
          "Pass",
          "Fail",
          "Fail",
          "Pass",
          "Pass",
          "Pass",
          "Fail",
          "Fail",
          "Pass",
          "Fail",
          "Pass",
          "Fail",
          "Pass",
          "Pass",
          "Pass",
          "Fail",
          "Pass",
          "Fail",
          "Fail",
          "Fail",
          "Fail",
          "Pass",
          "Pass",
          "Pass",
          "Fail",
          "Pass",
          "Pass",
          "Pass",
          "Fail",
          "Fail",
          "Pass",
          "Fail",
          "Fail",
          "Pass",
          "Pass",
          "Fail",
          "Pass",
          "Fail",
          "Fail",
          "Fail",
          "Pass",
          "Pass",
          "Pass",
          "Fail",
          "Fail",
          "Pass",
          "Fail",
          "Fail",
          "Fail",
          "Pass",
          "Pass",
          "Pass",
          "Fail",
          "Fail",
          "Fail",
          "Pass",
          "Pass",
          "Fail",
          "Pass",
          "Fail",
          "Pass",
          "Fail",
          "Pass",
          "Pass",
          "Pass",
          "Fail",
          "Fail",
          "Pass",
          "Fail",
          "Pass",
          "Pass",
          "Pass",
          "Pass",
          "Pass",
          "Fail",
          "Fail",
          "Pass",
          "Fail",
          "Pass",
          "Fail",
          "Fail",
          "Fail",
          "Pass",
          "Fail",
          "Pass",
          "Fail",
          "Pass",
          "Fail",
          "Pass",
          "Pass",
          "Fail",
          "Pass",
          "Pass",
          "Fail",
          "Fail",
          "Pass",
          "Pass",
          "Fail",
          "Fail",
          "Fail",
          "Pass",
          "Fail",
          "Pass",
          "Fail",
          "Fail",
          "Fail",
          "Fail",
          "Fail",
          "Fail",
          "Fail",
          "Pass",
          "Pass",
          "Fail",
          "Pass",
          "Fail",
          "Fail",
          "Pass",
          "Fail",
          "Fail",
          "Fail",
          "Pass",
          "Pass",
          "Fail",
          "Pass",
          "Fail",
          "Pass",
          "Pass",
          "Fail",
          "Fail",
          "Pass",
          "Pass",
          "Pass",
          "Pass",
          "Fail",
          "Pass",
          "Fail",
          "Pass",
          "Fail",
          "Fail",
          "Pass",
          "Pass",
          "Fail",
          "Pass",
          "Pass",
          "Pass",
          "Pass",
          "Pass",
          "Pass",
          "Fail",
          "Pass",
          "Fail",
          "Pass",
          "Pass",
          "Pass",
          "Fail",
          "Fail",
          "Fail",
          "Fail",
          "Fail",
          "Fail",
          "Fail",
          "Fail",
          "Pass",
          "Pass",
          "Pass",
          "Pass",
          "Pass",
          "Fail",
          "Pass",
          "Pass",
          "Pass",
          "Pass",
          "Pass",
          "Fail",
          "Fail",
          "Pass",
          "Pass",
          "Pass",
          "Fail",
          "Pass",
          "Fail",
          "Fail",
          "Fail",
          "Pass",
          "Pass",
          "Fail",
          "Fail",
          "Fail",
          "Fail",
          "Pass",
          "Pass",
          "Fail",
          "Fail",
          "Fail",
          "Pass",
          "Pass",
          "Fail",
          "Fail",
          "Fail",
          "Fail",
          "Pass",
          "Fail",
          "Fail",
          "Pass",
          "Pass",
          "Fail",
          "Pass",
          "Pass",
          "Fail",
          "Pass",
          "Fail",
          "Pass",
          "Fail",
          "Fail",
          "Pass",
          "Pass",
          "Pass",
          "Fail",
          "Fail",
          "Fail",
          "Fail",
          "Fail",
          "Fail",
          "Fail",
          "Fail",
          "Fail",
          "Fail",
          "Pass",
          "Pass",
          "Pass",
          "Fail",
          "Pass",
          "Fail",
          "Pass"
         ],
         "yaxis": "y"
        },
        {
         "hovertemplate": "gender=Female<br>age=%{x}<br>final_result=%{y}<extra></extra>",
         "legendgroup": "Female",
         "marker": {
          "color": "#00cc96",
          "symbol": "circle"
         },
         "mode": "markers",
         "name": "Female",
         "orientation": "h",
         "showlegend": true,
         "type": "scatter",
         "x": {
          "bdata": "EBAQDxAREQ8PDxAQEBEQEBAREREREBEPDxAPEQ8QEREPDxEPDw8QEREPDw8QEBAQEREREQ8REBEPEREQEQ8RERAPERAPDxAPEBAQEREPEQ8PDxERDw8QDxEPEBAQEREREQ8PDxEREBEREBAREREREBERDxAPERARDxEQDxARDw8PEBAQEA8PEBAPEBAQDw8QEA8PEQ8REBAREBEQDw8PDxEREREQEBEREQ8PEREQEQ8QERARDxERDxAPEQ8PEA8REA8RDxAPDxAPDxEPDxEQDxEQERAREA8QEBAPEQ8PDxEQEREPEBAPEQ8PEREPDxEQEBEQDxEREBAQDxEPEBAPEBAQDxERERAQEA8PEQ8PERARDxEQEQ8REQ8RDw8REREPEBAPDw8PEQ8REA8PEBEQDxAPEREQEBEQEQ8QEREREBAREBEPDxE=",
          "dtype": "i1"
         },
         "xaxis": "x",
         "y": [
          "Pass",
          "Fail",
          "Fail",
          "Fail",
          "Pass",
          "Fail",
          "Fail",
          "Pass",
          "Pass",
          "Pass",
          "Pass",
          "Pass",
          "Fail",
          "Pass",
          "Pass",
          "Fail",
          "Fail",
          "Fail",
          "Pass",
          "Fail",
          "Pass",
          "Pass",
          "Pass",
          "Fail",
          "Fail",
          "Fail",
          "Pass",
          "Pass",
          "Fail",
          "Pass",
          "Pass",
          "Pass",
          "Fail",
          "Fail",
          "Pass",
          "Pass",
          "Fail",
          "Fail",
          "Fail",
          "Fail",
          "Pass",
          "Fail",
          "Pass",
          "Fail",
          "Pass",
          "Pass",
          "Pass",
          "Pass",
          "Pass",
          "Fail",
          "Fail",
          "Fail",
          "Pass",
          "Pass",
          "Pass",
          "Fail",
          "Fail",
          "Fail",
          "Pass",
          "Fail",
          "Pass",
          "Pass",
          "Pass",
          "Fail",
          "Fail",
          "Fail",
          "Fail",
          "Pass",
          "Pass",
          "Pass",
          "Pass",
          "Fail",
          "Fail",
          "Pass",
          "Pass",
          "Pass",
          "Pass",
          "Pass",
          "Pass",
          "Pass",
          "Pass",
          "Pass",
          "Pass",
          "Fail",
          "Fail",
          "Pass",
          "Fail",
          "Pass",
          "Pass",
          "Pass",
          "Fail",
          "Pass",
          "Fail",
          "Fail",
          "Pass",
          "Fail",
          "Fail",
          "Pass",
          "Pass",
          "Pass",
          "Fail",
          "Fail",
          "Pass",
          "Pass",
          "Fail",
          "Pass",
          "Pass",
          "Fail",
          "Pass",
          "Fail",
          "Pass",
          "Fail",
          "Fail",
          "Fail",
          "Fail",
          "Fail",
          "Fail",
          "Pass",
          "Fail",
          "Fail",
          "Fail",
          "Pass",
          "Fail",
          "Fail",
          "Fail",
          "Pass",
          "Pass",
          "Fail",
          "Pass",
          "Pass",
          "Pass",
          "Pass",
          "Pass",
          "Fail",
          "Pass",
          "Pass",
          "Pass",
          "Pass",
          "Pass",
          "Pass",
          "Pass",
          "Pass",
          "Fail",
          "Fail",
          "Pass",
          "Fail",
          "Fail",
          "Fail",
          "Pass",
          "Fail",
          "Pass",
          "Pass",
          "Fail",
          "Pass",
          "Pass",
          "Pass",
          "Fail",
          "Fail",
          "Fail",
          "Fail",
          "Fail",
          "Fail",
          "Fail",
          "Fail",
          "Pass",
          "Pass",
          "Fail",
          "Pass",
          "Pass",
          "Pass",
          "Pass",
          "Pass",
          "Pass",
          "Fail",
          "Pass",
          "Pass",
          "Pass",
          "Fail",
          "Fail",
          "Fail",
          "Pass",
          "Pass",
          "Pass",
          "Pass",
          "Pass",
          "Pass",
          "Pass",
          "Pass",
          "Fail",
          "Pass",
          "Fail",
          "Fail",
          "Fail",
          "Fail",
          "Fail",
          "Fail",
          "Pass",
          "Pass",
          "Fail",
          "Pass",
          "Pass",
          "Fail",
          "Fail",
          "Fail",
          "Fail",
          "Fail",
          "Pass",
          "Pass",
          "Pass",
          "Fail",
          "Fail",
          "Pass",
          "Fail",
          "Pass",
          "Fail",
          "Fail",
          "Fail",
          "Fail",
          "Fail",
          "Fail",
          "Pass",
          "Pass",
          "Fail",
          "Fail",
          "Pass",
          "Fail",
          "Fail",
          "Pass",
          "Fail",
          "Fail",
          "Pass",
          "Pass",
          "Fail",
          "Fail",
          "Pass",
          "Fail",
          "Fail",
          "Fail",
          "Pass",
          "Pass",
          "Pass",
          "Fail",
          "Pass",
          "Pass",
          "Pass",
          "Pass",
          "Fail",
          "Pass",
          "Fail",
          "Fail",
          "Fail",
          "Pass",
          "Pass",
          "Fail",
          "Pass",
          "Fail",
          "Pass",
          "Pass",
          "Fail",
          "Pass",
          "Fail",
          "Fail",
          "Pass",
          "Pass",
          "Pass",
          "Fail",
          "Fail",
          "Fail",
          "Pass",
          "Pass",
          "Fail",
          "Fail",
          "Fail",
          "Fail",
          "Pass",
          "Pass",
          "Pass",
          "Fail",
          "Pass",
          "Pass",
          "Fail",
          "Pass",
          "Fail",
          "Fail",
          "Pass",
          "Pass",
          "Pass",
          "Fail",
          "Pass",
          "Fail",
          "Pass",
          "Pass",
          "Fail",
          "Pass",
          "Fail",
          "Fail",
          "Fail",
          "Fail",
          "Pass",
          "Pass",
          "Pass",
          "Fail",
          "Fail",
          "Pass",
          "Fail",
          "Fail",
          "Pass",
          "Fail",
          "Fail",
          "Fail",
          "Fail",
          "Fail",
          "Fail",
          "Pass",
          "Pass",
          "Pass",
          "Pass",
          "Fail",
          "Fail",
          "Fail",
          "Pass",
          "Fail",
          "Pass",
          "Fail",
          "Fail",
          "Fail"
         ],
         "yaxis": "y"
        }
       ],
       "layout": {
        "legend": {
         "title": {
          "text": "gender"
         },
         "tracegroupgap": 0
        },
        "template": {
         "data": {
          "bar": [
           {
            "error_x": {
             "color": "#2a3f5f"
            },
            "error_y": {
             "color": "#2a3f5f"
            },
            "marker": {
             "line": {
              "color": "#E5ECF6",
              "width": 0.5
             },
             "pattern": {
              "fillmode": "overlay",
              "size": 10,
              "solidity": 0.2
             }
            },
            "type": "bar"
           }
          ],
          "barpolar": [
           {
            "marker": {
             "line": {
              "color": "#E5ECF6",
              "width": 0.5
             },
             "pattern": {
              "fillmode": "overlay",
              "size": 10,
              "solidity": 0.2
             }
            },
            "type": "barpolar"
           }
          ],
          "carpet": [
           {
            "aaxis": {
             "endlinecolor": "#2a3f5f",
             "gridcolor": "white",
             "linecolor": "white",
             "minorgridcolor": "white",
             "startlinecolor": "#2a3f5f"
            },
            "baxis": {
             "endlinecolor": "#2a3f5f",
             "gridcolor": "white",
             "linecolor": "white",
             "minorgridcolor": "white",
             "startlinecolor": "#2a3f5f"
            },
            "type": "carpet"
           }
          ],
          "choropleth": [
           {
            "colorbar": {
             "outlinewidth": 0,
             "ticks": ""
            },
            "type": "choropleth"
           }
          ],
          "contour": [
           {
            "colorbar": {
             "outlinewidth": 0,
             "ticks": ""
            },
            "colorscale": [
             [
              0,
              "#0d0887"
             ],
             [
              0.1111111111111111,
              "#46039f"
             ],
             [
              0.2222222222222222,
              "#7201a8"
             ],
             [
              0.3333333333333333,
              "#9c179e"
             ],
             [
              0.4444444444444444,
              "#bd3786"
             ],
             [
              0.5555555555555556,
              "#d8576b"
             ],
             [
              0.6666666666666666,
              "#ed7953"
             ],
             [
              0.7777777777777778,
              "#fb9f3a"
             ],
             [
              0.8888888888888888,
              "#fdca26"
             ],
             [
              1,
              "#f0f921"
             ]
            ],
            "type": "contour"
           }
          ],
          "contourcarpet": [
           {
            "colorbar": {
             "outlinewidth": 0,
             "ticks": ""
            },
            "type": "contourcarpet"
           }
          ],
          "heatmap": [
           {
            "colorbar": {
             "outlinewidth": 0,
             "ticks": ""
            },
            "colorscale": [
             [
              0,
              "#0d0887"
             ],
             [
              0.1111111111111111,
              "#46039f"
             ],
             [
              0.2222222222222222,
              "#7201a8"
             ],
             [
              0.3333333333333333,
              "#9c179e"
             ],
             [
              0.4444444444444444,
              "#bd3786"
             ],
             [
              0.5555555555555556,
              "#d8576b"
             ],
             [
              0.6666666666666666,
              "#ed7953"
             ],
             [
              0.7777777777777778,
              "#fb9f3a"
             ],
             [
              0.8888888888888888,
              "#fdca26"
             ],
             [
              1,
              "#f0f921"
             ]
            ],
            "type": "heatmap"
           }
          ],
          "histogram": [
           {
            "marker": {
             "pattern": {
              "fillmode": "overlay",
              "size": 10,
              "solidity": 0.2
             }
            },
            "type": "histogram"
           }
          ],
          "histogram2d": [
           {
            "colorbar": {
             "outlinewidth": 0,
             "ticks": ""
            },
            "colorscale": [
             [
              0,
              "#0d0887"
             ],
             [
              0.1111111111111111,
              "#46039f"
             ],
             [
              0.2222222222222222,
              "#7201a8"
             ],
             [
              0.3333333333333333,
              "#9c179e"
             ],
             [
              0.4444444444444444,
              "#bd3786"
             ],
             [
              0.5555555555555556,
              "#d8576b"
             ],
             [
              0.6666666666666666,
              "#ed7953"
             ],
             [
              0.7777777777777778,
              "#fb9f3a"
             ],
             [
              0.8888888888888888,
              "#fdca26"
             ],
             [
              1,
              "#f0f921"
             ]
            ],
            "type": "histogram2d"
           }
          ],
          "histogram2dcontour": [
           {
            "colorbar": {
             "outlinewidth": 0,
             "ticks": ""
            },
            "colorscale": [
             [
              0,
              "#0d0887"
             ],
             [
              0.1111111111111111,
              "#46039f"
             ],
             [
              0.2222222222222222,
              "#7201a8"
             ],
             [
              0.3333333333333333,
              "#9c179e"
             ],
             [
              0.4444444444444444,
              "#bd3786"
             ],
             [
              0.5555555555555556,
              "#d8576b"
             ],
             [
              0.6666666666666666,
              "#ed7953"
             ],
             [
              0.7777777777777778,
              "#fb9f3a"
             ],
             [
              0.8888888888888888,
              "#fdca26"
             ],
             [
              1,
              "#f0f921"
             ]
            ],
            "type": "histogram2dcontour"
           }
          ],
          "mesh3d": [
           {
            "colorbar": {
             "outlinewidth": 0,
             "ticks": ""
            },
            "type": "mesh3d"
           }
          ],
          "parcoords": [
           {
            "line": {
             "colorbar": {
              "outlinewidth": 0,
              "ticks": ""
             }
            },
            "type": "parcoords"
           }
          ],
          "pie": [
           {
            "automargin": true,
            "type": "pie"
           }
          ],
          "scatter": [
           {
            "fillpattern": {
             "fillmode": "overlay",
             "size": 10,
             "solidity": 0.2
            },
            "type": "scatter"
           }
          ],
          "scatter3d": [
           {
            "line": {
             "colorbar": {
              "outlinewidth": 0,
              "ticks": ""
             }
            },
            "marker": {
             "colorbar": {
              "outlinewidth": 0,
              "ticks": ""
             }
            },
            "type": "scatter3d"
           }
          ],
          "scattercarpet": [
           {
            "marker": {
             "colorbar": {
              "outlinewidth": 0,
              "ticks": ""
             }
            },
            "type": "scattercarpet"
           }
          ],
          "scattergeo": [
           {
            "marker": {
             "colorbar": {
              "outlinewidth": 0,
              "ticks": ""
             }
            },
            "type": "scattergeo"
           }
          ],
          "scattergl": [
           {
            "marker": {
             "colorbar": {
              "outlinewidth": 0,
              "ticks": ""
             }
            },
            "type": "scattergl"
           }
          ],
          "scattermap": [
           {
            "marker": {
             "colorbar": {
              "outlinewidth": 0,
              "ticks": ""
             }
            },
            "type": "scattermap"
           }
          ],
          "scattermapbox": [
           {
            "marker": {
             "colorbar": {
              "outlinewidth": 0,
              "ticks": ""
             }
            },
            "type": "scattermapbox"
           }
          ],
          "scatterpolar": [
           {
            "marker": {
             "colorbar": {
              "outlinewidth": 0,
              "ticks": ""
             }
            },
            "type": "scatterpolar"
           }
          ],
          "scatterpolargl": [
           {
            "marker": {
             "colorbar": {
              "outlinewidth": 0,
              "ticks": ""
             }
            },
            "type": "scatterpolargl"
           }
          ],
          "scatterternary": [
           {
            "marker": {
             "colorbar": {
              "outlinewidth": 0,
              "ticks": ""
             }
            },
            "type": "scatterternary"
           }
          ],
          "surface": [
           {
            "colorbar": {
             "outlinewidth": 0,
             "ticks": ""
            },
            "colorscale": [
             [
              0,
              "#0d0887"
             ],
             [
              0.1111111111111111,
              "#46039f"
             ],
             [
              0.2222222222222222,
              "#7201a8"
             ],
             [
              0.3333333333333333,
              "#9c179e"
             ],
             [
              0.4444444444444444,
              "#bd3786"
             ],
             [
              0.5555555555555556,
              "#d8576b"
             ],
             [
              0.6666666666666666,
              "#ed7953"
             ],
             [
              0.7777777777777778,
              "#fb9f3a"
             ],
             [
              0.8888888888888888,
              "#fdca26"
             ],
             [
              1,
              "#f0f921"
             ]
            ],
            "type": "surface"
           }
          ],
          "table": [
           {
            "cells": {
             "fill": {
              "color": "#EBF0F8"
             },
             "line": {
              "color": "white"
             }
            },
            "header": {
             "fill": {
              "color": "#C8D4E3"
             },
             "line": {
              "color": "white"
             }
            },
            "type": "table"
           }
          ]
         },
         "layout": {
          "annotationdefaults": {
           "arrowcolor": "#2a3f5f",
           "arrowhead": 0,
           "arrowwidth": 1
          },
          "autotypenumbers": "strict",
          "coloraxis": {
           "colorbar": {
            "outlinewidth": 0,
            "ticks": ""
           }
          },
          "colorscale": {
           "diverging": [
            [
             0,
             "#8e0152"
            ],
            [
             0.1,
             "#c51b7d"
            ],
            [
             0.2,
             "#de77ae"
            ],
            [
             0.3,
             "#f1b6da"
            ],
            [
             0.4,
             "#fde0ef"
            ],
            [
             0.5,
             "#f7f7f7"
            ],
            [
             0.6,
             "#e6f5d0"
            ],
            [
             0.7,
             "#b8e186"
            ],
            [
             0.8,
             "#7fbc41"
            ],
            [
             0.9,
             "#4d9221"
            ],
            [
             1,
             "#276419"
            ]
           ],
           "sequential": [
            [
             0,
             "#0d0887"
            ],
            [
             0.1111111111111111,
             "#46039f"
            ],
            [
             0.2222222222222222,
             "#7201a8"
            ],
            [
             0.3333333333333333,
             "#9c179e"
            ],
            [
             0.4444444444444444,
             "#bd3786"
            ],
            [
             0.5555555555555556,
             "#d8576b"
            ],
            [
             0.6666666666666666,
             "#ed7953"
            ],
            [
             0.7777777777777778,
             "#fb9f3a"
            ],
            [
             0.8888888888888888,
             "#fdca26"
            ],
            [
             1,
             "#f0f921"
            ]
           ],
           "sequentialminus": [
            [
             0,
             "#0d0887"
            ],
            [
             0.1111111111111111,
             "#46039f"
            ],
            [
             0.2222222222222222,
             "#7201a8"
            ],
            [
             0.3333333333333333,
             "#9c179e"
            ],
            [
             0.4444444444444444,
             "#bd3786"
            ],
            [
             0.5555555555555556,
             "#d8576b"
            ],
            [
             0.6666666666666666,
             "#ed7953"
            ],
            [
             0.7777777777777778,
             "#fb9f3a"
            ],
            [
             0.8888888888888888,
             "#fdca26"
            ],
            [
             1,
             "#f0f921"
            ]
           ]
          },
          "colorway": [
           "#636efa",
           "#EF553B",
           "#00cc96",
           "#ab63fa",
           "#FFA15A",
           "#19d3f3",
           "#FF6692",
           "#B6E880",
           "#FF97FF",
           "#FECB52"
          ],
          "font": {
           "color": "#2a3f5f"
          },
          "geo": {
           "bgcolor": "white",
           "lakecolor": "white",
           "landcolor": "#E5ECF6",
           "showlakes": true,
           "showland": true,
           "subunitcolor": "white"
          },
          "hoverlabel": {
           "align": "left"
          },
          "hovermode": "closest",
          "mapbox": {
           "style": "light"
          },
          "paper_bgcolor": "white",
          "plot_bgcolor": "#E5ECF6",
          "polar": {
           "angularaxis": {
            "gridcolor": "white",
            "linecolor": "white",
            "ticks": ""
           },
           "bgcolor": "#E5ECF6",
           "radialaxis": {
            "gridcolor": "white",
            "linecolor": "white",
            "ticks": ""
           }
          },
          "scene": {
           "xaxis": {
            "backgroundcolor": "#E5ECF6",
            "gridcolor": "white",
            "gridwidth": 2,
            "linecolor": "white",
            "showbackground": true,
            "ticks": "",
            "zerolinecolor": "white"
           },
           "yaxis": {
            "backgroundcolor": "#E5ECF6",
            "gridcolor": "white",
            "gridwidth": 2,
            "linecolor": "white",
            "showbackground": true,
            "ticks": "",
            "zerolinecolor": "white"
           },
           "zaxis": {
            "backgroundcolor": "#E5ECF6",
            "gridcolor": "white",
            "gridwidth": 2,
            "linecolor": "white",
            "showbackground": true,
            "ticks": "",
            "zerolinecolor": "white"
           }
          },
          "shapedefaults": {
           "line": {
            "color": "#2a3f5f"
           }
          },
          "ternary": {
           "aaxis": {
            "gridcolor": "white",
            "linecolor": "white",
            "ticks": ""
           },
           "baxis": {
            "gridcolor": "white",
            "linecolor": "white",
            "ticks": ""
           },
           "bgcolor": "#E5ECF6",
           "caxis": {
            "gridcolor": "white",
            "linecolor": "white",
            "ticks": ""
           }
          },
          "title": {
           "x": 0.05
          },
          "xaxis": {
           "automargin": true,
           "gridcolor": "white",
           "linecolor": "white",
           "ticks": "",
           "title": {
            "standoff": 15
           },
           "zerolinecolor": "white",
           "zerolinewidth": 2
          },
          "yaxis": {
           "automargin": true,
           "gridcolor": "white",
           "linecolor": "white",
           "ticks": "",
           "title": {
            "standoff": 15
           },
           "zerolinecolor": "white",
           "zerolinewidth": 2
          }
         }
        },
        "title": {
         "text": "🎯 Marks vs Age (Interactive)"
        },
        "xaxis": {
         "anchor": "y",
         "domain": [
          0,
          1
         ],
         "title": {
          "text": "age"
         }
        },
        "yaxis": {
         "anchor": "x",
         "domain": [
          0,
          1
         ],
         "title": {
          "text": "final_result"
         }
        }
       }
      }
     },
     "metadata": {},
     "output_type": "display_data"
    }
   ],
   "source": [
    "fig = px.scatter(df, x=\"age\", y=\"final_result\", color=\"gender\", title=\"🎯 Marks vs Age (Interactive)\")\n",
    "fig.show()"
   ]
  },
  {
   "cell_type": "code",
   "execution_count": 29,
   "id": "bb47d00a-3ad3-40c1-a41f-3b2a2c2236d7",
   "metadata": {},
   "outputs": [
    {
     "name": "stderr",
     "output_type": "stream",
     "text": [
      "C:\\Users\\NIKITA\\AppData\\Local\\Programs\\Python\\Python313\\Lib\\site-packages\\IPython\\core\\pylabtools.py:170: UserWarning:\n",
      "\n",
      "Glyph 128202 (\\N{BAR CHART}) missing from font(s) DejaVu Sans.\n",
      "\n"
     ]
    },
    {
     "data": {
      "image/png": "[encoded data removed]",
      "text/plain": [
       "<Figure size 640x480 with 1 Axes>"
      ]
     },
     "metadata": {},
     "output_type": "display_data"
    }
   ],
   "source": [
    "df.groupby('gender')['math_score'].mean().plot(kind='bar', color=['green', 'red'])\n",
    "plt.title(\"📊 Average Marks by Gender\")\n",
    "plt.ylabel(\"Marks\")\n",
    "plt.show()\n"
   ]
  },
  {
   "cell_type": "code",
   "execution_count": null,
   "id": "0ec8e3b2-d32e-4a64-912b-8dc3b1262323",
   "metadata": {},
   "outputs": [],
   "source": [
    "top_students = df[df['math_score'] > 90]\n",
    "top_students[['name', 'math_score', 'gender']]\n"
   ]
  }
 ],
 "metadata": {
  "kernelspec": {
   "display_name": "Python 3 (ipykernel)",
   "language": "python",
   "name": "python3"
  },
  "language_info": {
   "codemirror_mode": {
    "name": "ipython",
    "version": 3
   },
   "file_extension": ".py",
   "mimetype": "text/x-python",
   "name": "python",
   "nbconvert_exporter": "python",
   "pygments_lexer": "ipython3",
   "version": "3.13.4"
  }
 },
 "nbformat": 4,
 "nbformat_minor": 5
}
